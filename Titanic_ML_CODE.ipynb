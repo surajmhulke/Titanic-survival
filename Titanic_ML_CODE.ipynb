{
  "nbformat": 4,
  "nbformat_minor": 0,
  "metadata": {
    "colab": {
      "provenance": []
    },
    "kernelspec": {
      "name": "python3",
      "display_name": "Python 3"
    },
    "language_info": {
      "name": "python"
    }
  },
  "cells": [
    {
      "cell_type": "code",
      "source": [
        "import pandas as pd\n",
        "import numpy as np\n",
        "import matplotlib.pyplot as plt\n",
        "import seaborn as sns\n",
        "from sklearn.linear_model import LogisticRegression\n",
        "from sklearn.model_selection import train_test_split\n",
        "from sklearn.metrics import confusion_matrix, multilabel_confusion_matrix # multilable for >>> Multiclass Classification\n",
        "from sklearn.metrics import classification_report, accuracy_score\n",
        "from sklearn.metrics import roc_curve,roc_auc_score\n",
        "import warnings # To avoid warning message...Which is shown bcz of New Upate of Python\n",
        "warnings.filterwarnings(\"ignore\")\n",
        "import pickle\n"
      ],
      "metadata": {
        "id": "iWBfh4lUFAlJ"
      },
      "execution_count": 16,
      "outputs": []
    },
    {
      "cell_type": "code",
      "source": [
        "#1.Problem statement\n",
        "#To predict person is survived or not using variuos variables\n",
        "\n"
      ],
      "metadata": {
        "id": "UBbmJJ5b2ZOG"
      },
      "execution_count": 17,
      "outputs": []
    },
    {
      "cell_type": "code",
      "source": [
        "#2.Data Gathering\n",
        "df = pd.read_csv(\"/content/titanic.csv\")\n",
        "df.head().T"
      ],
      "metadata": {
        "colab": {
          "base_uri": "https://localhost:8080/",
          "height": 460
        },
        "id": "TWgopkUv7YHU",
        "outputId": "1fd64a2e-4996-4c79-99fc-58eaba8e384e"
      },
      "execution_count": 18,
      "outputs": [
        {
          "output_type": "execute_result",
          "data": {
            "text/plain": [
              "                                   0  \\\n",
              "PassengerId                        1   \n",
              "Survived                           0   \n",
              "Pclass                             3   \n",
              "Name         Braund, Mr. Owen Harris   \n",
              "Gender                          male   \n",
              "Age                             22.0   \n",
              "SibSp                              1   \n",
              "Parch                              0   \n",
              "Ticket                     A/5 21171   \n",
              "Fare                            7.25   \n",
              "Cabin                            NaN   \n",
              "Embarked                           S   \n",
              "\n",
              "                                                             1  \\\n",
              "PassengerId                                                  2   \n",
              "Survived                                                     1   \n",
              "Pclass                                                       1   \n",
              "Name         Cumings, Mrs. John Bradley (Florence Briggs Th...   \n",
              "Gender                                                  female   \n",
              "Age                                                       38.0   \n",
              "SibSp                                                        1   \n",
              "Parch                                                        0   \n",
              "Ticket                                                PC 17599   \n",
              "Fare                                                   71.2833   \n",
              "Cabin                                                      C85   \n",
              "Embarked                                                     C   \n",
              "\n",
              "                                  2  \\\n",
              "PassengerId                       3   \n",
              "Survived                          1   \n",
              "Pclass                            3   \n",
              "Name         Heikkinen, Miss. Laina   \n",
              "Gender                       female   \n",
              "Age                            26.0   \n",
              "SibSp                             0   \n",
              "Parch                             0   \n",
              "Ticket             STON/O2. 3101282   \n",
              "Fare                          7.925   \n",
              "Cabin                           NaN   \n",
              "Embarked                          S   \n",
              "\n",
              "                                                        3  \\\n",
              "PassengerId                                             4   \n",
              "Survived                                                1   \n",
              "Pclass                                                  1   \n",
              "Name         Futrelle, Mrs. Jacques Heath (Lily May Peel)   \n",
              "Gender                                             female   \n",
              "Age                                                  35.0   \n",
              "SibSp                                                   1   \n",
              "Parch                                                   0   \n",
              "Ticket                                             113803   \n",
              "Fare                                                 53.1   \n",
              "Cabin                                                C123   \n",
              "Embarked                                                S   \n",
              "\n",
              "                                    4  \n",
              "PassengerId                         5  \n",
              "Survived                            0  \n",
              "Pclass                              3  \n",
              "Name         Allen, Mr. William Henry  \n",
              "Gender                           male  \n",
              "Age                              35.0  \n",
              "SibSp                               0  \n",
              "Parch                               0  \n",
              "Ticket                         373450  \n",
              "Fare                             8.05  \n",
              "Cabin                             NaN  \n",
              "Embarked                            S  "
            ],
            "text/html": [
              "\n",
              "  <div id=\"df-9f6d646d-5844-4c99-9a87-7ba159965c1c\" class=\"colab-df-container\">\n",
              "    <div>\n",
              "<style scoped>\n",
              "    .dataframe tbody tr th:only-of-type {\n",
              "        vertical-align: middle;\n",
              "    }\n",
              "\n",
              "    .dataframe tbody tr th {\n",
              "        vertical-align: top;\n",
              "    }\n",
              "\n",
              "    .dataframe thead th {\n",
              "        text-align: right;\n",
              "    }\n",
              "</style>\n",
              "<table border=\"1\" class=\"dataframe\">\n",
              "  <thead>\n",
              "    <tr style=\"text-align: right;\">\n",
              "      <th></th>\n",
              "      <th>0</th>\n",
              "      <th>1</th>\n",
              "      <th>2</th>\n",
              "      <th>3</th>\n",
              "      <th>4</th>\n",
              "    </tr>\n",
              "  </thead>\n",
              "  <tbody>\n",
              "    <tr>\n",
              "      <th>PassengerId</th>\n",
              "      <td>1</td>\n",
              "      <td>2</td>\n",
              "      <td>3</td>\n",
              "      <td>4</td>\n",
              "      <td>5</td>\n",
              "    </tr>\n",
              "    <tr>\n",
              "      <th>Survived</th>\n",
              "      <td>0</td>\n",
              "      <td>1</td>\n",
              "      <td>1</td>\n",
              "      <td>1</td>\n",
              "      <td>0</td>\n",
              "    </tr>\n",
              "    <tr>\n",
              "      <th>Pclass</th>\n",
              "      <td>3</td>\n",
              "      <td>1</td>\n",
              "      <td>3</td>\n",
              "      <td>1</td>\n",
              "      <td>3</td>\n",
              "    </tr>\n",
              "    <tr>\n",
              "      <th>Name</th>\n",
              "      <td>Braund, Mr. Owen Harris</td>\n",
              "      <td>Cumings, Mrs. John Bradley (Florence Briggs Th...</td>\n",
              "      <td>Heikkinen, Miss. Laina</td>\n",
              "      <td>Futrelle, Mrs. Jacques Heath (Lily May Peel)</td>\n",
              "      <td>Allen, Mr. William Henry</td>\n",
              "    </tr>\n",
              "    <tr>\n",
              "      <th>Gender</th>\n",
              "      <td>male</td>\n",
              "      <td>female</td>\n",
              "      <td>female</td>\n",
              "      <td>female</td>\n",
              "      <td>male</td>\n",
              "    </tr>\n",
              "    <tr>\n",
              "      <th>Age</th>\n",
              "      <td>22.0</td>\n",
              "      <td>38.0</td>\n",
              "      <td>26.0</td>\n",
              "      <td>35.0</td>\n",
              "      <td>35.0</td>\n",
              "    </tr>\n",
              "    <tr>\n",
              "      <th>SibSp</th>\n",
              "      <td>1</td>\n",
              "      <td>1</td>\n",
              "      <td>0</td>\n",
              "      <td>1</td>\n",
              "      <td>0</td>\n",
              "    </tr>\n",
              "    <tr>\n",
              "      <th>Parch</th>\n",
              "      <td>0</td>\n",
              "      <td>0</td>\n",
              "      <td>0</td>\n",
              "      <td>0</td>\n",
              "      <td>0</td>\n",
              "    </tr>\n",
              "    <tr>\n",
              "      <th>Ticket</th>\n",
              "      <td>A/5 21171</td>\n",
              "      <td>PC 17599</td>\n",
              "      <td>STON/O2. 3101282</td>\n",
              "      <td>113803</td>\n",
              "      <td>373450</td>\n",
              "    </tr>\n",
              "    <tr>\n",
              "      <th>Fare</th>\n",
              "      <td>7.25</td>\n",
              "      <td>71.2833</td>\n",
              "      <td>7.925</td>\n",
              "      <td>53.1</td>\n",
              "      <td>8.05</td>\n",
              "    </tr>\n",
              "    <tr>\n",
              "      <th>Cabin</th>\n",
              "      <td>NaN</td>\n",
              "      <td>C85</td>\n",
              "      <td>NaN</td>\n",
              "      <td>C123</td>\n",
              "      <td>NaN</td>\n",
              "    </tr>\n",
              "    <tr>\n",
              "      <th>Embarked</th>\n",
              "      <td>S</td>\n",
              "      <td>C</td>\n",
              "      <td>S</td>\n",
              "      <td>S</td>\n",
              "      <td>S</td>\n",
              "    </tr>\n",
              "  </tbody>\n",
              "</table>\n",
              "</div>\n",
              "    <div class=\"colab-df-buttons\">\n",
              "\n",
              "  <div class=\"colab-df-container\">\n",
              "    <button class=\"colab-df-convert\" onclick=\"convertToInteractive('df-9f6d646d-5844-4c99-9a87-7ba159965c1c')\"\n",
              "            title=\"Convert this dataframe to an interactive table.\"\n",
              "            style=\"display:none;\">\n",
              "\n",
              "  <svg xmlns=\"http://www.w3.org/2000/svg\" height=\"24px\" viewBox=\"0 -960 960 960\">\n",
              "    <path d=\"M120-120v-720h720v720H120Zm60-500h600v-160H180v160Zm220 220h160v-160H400v160Zm0 220h160v-160H400v160ZM180-400h160v-160H180v160Zm440 0h160v-160H620v160ZM180-180h160v-160H180v160Zm440 0h160v-160H620v160Z\"/>\n",
              "  </svg>\n",
              "    </button>\n",
              "\n",
              "  <style>\n",
              "    .colab-df-container {\n",
              "      display:flex;\n",
              "      gap: 12px;\n",
              "    }\n",
              "\n",
              "    .colab-df-convert {\n",
              "      background-color: #E8F0FE;\n",
              "      border: none;\n",
              "      border-radius: 50%;\n",
              "      cursor: pointer;\n",
              "      display: none;\n",
              "      fill: #1967D2;\n",
              "      height: 32px;\n",
              "      padding: 0 0 0 0;\n",
              "      width: 32px;\n",
              "    }\n",
              "\n",
              "    .colab-df-convert:hover {\n",
              "      background-color: #E2EBFA;\n",
              "      box-shadow: 0px 1px 2px rgba(60, 64, 67, 0.3), 0px 1px 3px 1px rgba(60, 64, 67, 0.15);\n",
              "      fill: #174EA6;\n",
              "    }\n",
              "\n",
              "    .colab-df-buttons div {\n",
              "      margin-bottom: 4px;\n",
              "    }\n",
              "\n",
              "    [theme=dark] .colab-df-convert {\n",
              "      background-color: #3B4455;\n",
              "      fill: #D2E3FC;\n",
              "    }\n",
              "\n",
              "    [theme=dark] .colab-df-convert:hover {\n",
              "      background-color: #434B5C;\n",
              "      box-shadow: 0px 1px 3px 1px rgba(0, 0, 0, 0.15);\n",
              "      filter: drop-shadow(0px 1px 2px rgba(0, 0, 0, 0.3));\n",
              "      fill: #FFFFFF;\n",
              "    }\n",
              "  </style>\n",
              "\n",
              "    <script>\n",
              "      const buttonEl =\n",
              "        document.querySelector('#df-9f6d646d-5844-4c99-9a87-7ba159965c1c button.colab-df-convert');\n",
              "      buttonEl.style.display =\n",
              "        google.colab.kernel.accessAllowed ? 'block' : 'none';\n",
              "\n",
              "      async function convertToInteractive(key) {\n",
              "        const element = document.querySelector('#df-9f6d646d-5844-4c99-9a87-7ba159965c1c');\n",
              "        const dataTable =\n",
              "          await google.colab.kernel.invokeFunction('convertToInteractive',\n",
              "                                                    [key], {});\n",
              "        if (!dataTable) return;\n",
              "\n",
              "        const docLinkHtml = 'Like what you see? Visit the ' +\n",
              "          '<a target=\"_blank\" href=https://colab.research.google.com/notebooks/data_table.ipynb>data table notebook</a>'\n",
              "          + ' to learn more about interactive tables.';\n",
              "        element.innerHTML = '';\n",
              "        dataTable['output_type'] = 'display_data';\n",
              "        await google.colab.output.renderOutput(dataTable, element);\n",
              "        const docLink = document.createElement('div');\n",
              "        docLink.innerHTML = docLinkHtml;\n",
              "        element.appendChild(docLink);\n",
              "      }\n",
              "    </script>\n",
              "  </div>\n",
              "\n",
              "\n",
              "<div id=\"df-1d94619a-8197-41cd-9f8b-083abf9cc73e\">\n",
              "  <button class=\"colab-df-quickchart\" onclick=\"quickchart('df-1d94619a-8197-41cd-9f8b-083abf9cc73e')\"\n",
              "            title=\"Suggest charts.\"\n",
              "            style=\"display:none;\">\n",
              "\n",
              "<svg xmlns=\"http://www.w3.org/2000/svg\" height=\"24px\"viewBox=\"0 0 24 24\"\n",
              "     width=\"24px\">\n",
              "    <g>\n",
              "        <path d=\"M19 3H5c-1.1 0-2 .9-2 2v14c0 1.1.9 2 2 2h14c1.1 0 2-.9 2-2V5c0-1.1-.9-2-2-2zM9 17H7v-7h2v7zm4 0h-2V7h2v10zm4 0h-2v-4h2v4z\"/>\n",
              "    </g>\n",
              "</svg>\n",
              "  </button>\n",
              "\n",
              "<style>\n",
              "  .colab-df-quickchart {\n",
              "      --bg-color: #E8F0FE;\n",
              "      --fill-color: #1967D2;\n",
              "      --hover-bg-color: #E2EBFA;\n",
              "      --hover-fill-color: #174EA6;\n",
              "      --disabled-fill-color: #AAA;\n",
              "      --disabled-bg-color: #DDD;\n",
              "  }\n",
              "\n",
              "  [theme=dark] .colab-df-quickchart {\n",
              "      --bg-color: #3B4455;\n",
              "      --fill-color: #D2E3FC;\n",
              "      --hover-bg-color: #434B5C;\n",
              "      --hover-fill-color: #FFFFFF;\n",
              "      --disabled-bg-color: #3B4455;\n",
              "      --disabled-fill-color: #666;\n",
              "  }\n",
              "\n",
              "  .colab-df-quickchart {\n",
              "    background-color: var(--bg-color);\n",
              "    border: none;\n",
              "    border-radius: 50%;\n",
              "    cursor: pointer;\n",
              "    display: none;\n",
              "    fill: var(--fill-color);\n",
              "    height: 32px;\n",
              "    padding: 0;\n",
              "    width: 32px;\n",
              "  }\n",
              "\n",
              "  .colab-df-quickchart:hover {\n",
              "    background-color: var(--hover-bg-color);\n",
              "    box-shadow: 0 1px 2px rgba(60, 64, 67, 0.3), 0 1px 3px 1px rgba(60, 64, 67, 0.15);\n",
              "    fill: var(--button-hover-fill-color);\n",
              "  }\n",
              "\n",
              "  .colab-df-quickchart-complete:disabled,\n",
              "  .colab-df-quickchart-complete:disabled:hover {\n",
              "    background-color: var(--disabled-bg-color);\n",
              "    fill: var(--disabled-fill-color);\n",
              "    box-shadow: none;\n",
              "  }\n",
              "\n",
              "  .colab-df-spinner {\n",
              "    border: 2px solid var(--fill-color);\n",
              "    border-color: transparent;\n",
              "    border-bottom-color: var(--fill-color);\n",
              "    animation:\n",
              "      spin 1s steps(1) infinite;\n",
              "  }\n",
              "\n",
              "  @keyframes spin {\n",
              "    0% {\n",
              "      border-color: transparent;\n",
              "      border-bottom-color: var(--fill-color);\n",
              "      border-left-color: var(--fill-color);\n",
              "    }\n",
              "    20% {\n",
              "      border-color: transparent;\n",
              "      border-left-color: var(--fill-color);\n",
              "      border-top-color: var(--fill-color);\n",
              "    }\n",
              "    30% {\n",
              "      border-color: transparent;\n",
              "      border-left-color: var(--fill-color);\n",
              "      border-top-color: var(--fill-color);\n",
              "      border-right-color: var(--fill-color);\n",
              "    }\n",
              "    40% {\n",
              "      border-color: transparent;\n",
              "      border-right-color: var(--fill-color);\n",
              "      border-top-color: var(--fill-color);\n",
              "    }\n",
              "    60% {\n",
              "      border-color: transparent;\n",
              "      border-right-color: var(--fill-color);\n",
              "    }\n",
              "    80% {\n",
              "      border-color: transparent;\n",
              "      border-right-color: var(--fill-color);\n",
              "      border-bottom-color: var(--fill-color);\n",
              "    }\n",
              "    90% {\n",
              "      border-color: transparent;\n",
              "      border-bottom-color: var(--fill-color);\n",
              "    }\n",
              "  }\n",
              "</style>\n",
              "\n",
              "  <script>\n",
              "    async function quickchart(key) {\n",
              "      const quickchartButtonEl =\n",
              "        document.querySelector('#' + key + ' button');\n",
              "      quickchartButtonEl.disabled = true;  // To prevent multiple clicks.\n",
              "      quickchartButtonEl.classList.add('colab-df-spinner');\n",
              "      try {\n",
              "        const charts = await google.colab.kernel.invokeFunction(\n",
              "            'suggestCharts', [key], {});\n",
              "      } catch (error) {\n",
              "        console.error('Error during call to suggestCharts:', error);\n",
              "      }\n",
              "      quickchartButtonEl.classList.remove('colab-df-spinner');\n",
              "      quickchartButtonEl.classList.add('colab-df-quickchart-complete');\n",
              "    }\n",
              "    (() => {\n",
              "      let quickchartButtonEl =\n",
              "        document.querySelector('#df-1d94619a-8197-41cd-9f8b-083abf9cc73e button');\n",
              "      quickchartButtonEl.style.display =\n",
              "        google.colab.kernel.accessAllowed ? 'block' : 'none';\n",
              "    })();\n",
              "  </script>\n",
              "</div>\n",
              "    </div>\n",
              "  </div>\n"
            ]
          },
          "metadata": {},
          "execution_count": 18
        }
      ]
    },
    {
      "cell_type": "code",
      "source": [
        "df['Embarked'].unique()"
      ],
      "metadata": {
        "colab": {
          "base_uri": "https://localhost:8080/"
        },
        "id": "71VScQj69KpS",
        "outputId": "0f46c3cb-bd33-4639-e7d4-7b34bcd18f37"
      },
      "execution_count": 19,
      "outputs": [
        {
          "output_type": "execute_result",
          "data": {
            "text/plain": [
              "array(['S', 'C', 'Q', nan], dtype=object)"
            ]
          },
          "metadata": {},
          "execution_count": 19
        }
      ]
    },
    {
      "cell_type": "code",
      "source": [
        "#3.EDA\n",
        "df.info()\n"
      ],
      "metadata": {
        "colab": {
          "base_uri": "https://localhost:8080/"
        },
        "id": "xo416tV521-D",
        "outputId": "250c4fe3-b1d5-4b3c-a376-2cf24a92da6a"
      },
      "execution_count": 20,
      "outputs": [
        {
          "output_type": "stream",
          "name": "stdout",
          "text": [
            "<class 'pandas.core.frame.DataFrame'>\n",
            "RangeIndex: 891 entries, 0 to 890\n",
            "Data columns (total 12 columns):\n",
            " #   Column       Non-Null Count  Dtype  \n",
            "---  ------       --------------  -----  \n",
            " 0   PassengerId  891 non-null    int64  \n",
            " 1   Survived     891 non-null    int64  \n",
            " 2   Pclass       891 non-null    int64  \n",
            " 3   Name         891 non-null    object \n",
            " 4   Gender       891 non-null    object \n",
            " 5   Age          714 non-null    float64\n",
            " 6   SibSp        891 non-null    int64  \n",
            " 7   Parch        891 non-null    int64  \n",
            " 8   Ticket       891 non-null    object \n",
            " 9   Fare         891 non-null    float64\n",
            " 10  Cabin        204 non-null    object \n",
            " 11  Embarked     889 non-null    object \n",
            "dtypes: float64(2), int64(5), object(5)\n",
            "memory usage: 83.7+ KB\n"
          ]
        }
      ]
    },
    {
      "cell_type": "code",
      "source": [
        "df.nunique()\n"
      ],
      "metadata": {
        "colab": {
          "base_uri": "https://localhost:8080/"
        },
        "id": "HA57xlyC7l2d",
        "outputId": "b150c83d-1cf7-4439-87c0-676408c3cbe0"
      },
      "execution_count": 21,
      "outputs": [
        {
          "output_type": "execute_result",
          "data": {
            "text/plain": [
              "PassengerId    891\n",
              "Survived         2\n",
              "Pclass           3\n",
              "Name           891\n",
              "Gender           2\n",
              "Age             88\n",
              "SibSp            7\n",
              "Parch            7\n",
              "Ticket         681\n",
              "Fare           248\n",
              "Cabin          147\n",
              "Embarked         3\n",
              "dtype: int64"
            ]
          },
          "metadata": {},
          "execution_count": 21
        }
      ]
    },
    {
      "cell_type": "code",
      "source": [
        "column_list=['PassengerId','Name','Ticket','Cabin'] # These columns drop bcz of maximum no of Unique Values and object data type\n",
        "df.drop(column_list,axis=1,inplace=True)\n"
      ],
      "metadata": {
        "id": "AjrG71RB8RfC"
      },
      "execution_count": 22,
      "outputs": []
    },
    {
      "cell_type": "code",
      "source": [
        "from sklearn.preprocessing import LabelEncoder\n",
        "le = LabelEncoder()\n",
        "le.fit(df['Gender'])\n",
        "df['Gender'] = le.transform(df['Gender'])\n",
        "le.fit(df['Embarked'])\n",
        "df['Embarked'] = le.transform(df['Embarked'])\n",
        "df.head().T"
      ],
      "metadata": {
        "colab": {
          "base_uri": "https://localhost:8080/",
          "height": 300
        },
        "id": "jijUOghp8YJ5",
        "outputId": "a08dc317-75e2-4e44-e812-3af984ef2eb0"
      },
      "execution_count": 23,
      "outputs": [
        {
          "output_type": "execute_result",
          "data": {
            "text/plain": [
              "              0        1       2     3      4\n",
              "Survived   0.00   1.0000   1.000   1.0   0.00\n",
              "Pclass     3.00   1.0000   3.000   1.0   3.00\n",
              "Gender     1.00   0.0000   0.000   0.0   1.00\n",
              "Age       22.00  38.0000  26.000  35.0  35.00\n",
              "SibSp      1.00   1.0000   0.000   1.0   0.00\n",
              "Parch      0.00   0.0000   0.000   0.0   0.00\n",
              "Fare       7.25  71.2833   7.925  53.1   8.05\n",
              "Embarked   2.00   0.0000   2.000   2.0   2.00"
            ],
            "text/html": [
              "\n",
              "  <div id=\"df-a9f4e925-5913-4a14-b97e-bf2015243912\" class=\"colab-df-container\">\n",
              "    <div>\n",
              "<style scoped>\n",
              "    .dataframe tbody tr th:only-of-type {\n",
              "        vertical-align: middle;\n",
              "    }\n",
              "\n",
              "    .dataframe tbody tr th {\n",
              "        vertical-align: top;\n",
              "    }\n",
              "\n",
              "    .dataframe thead th {\n",
              "        text-align: right;\n",
              "    }\n",
              "</style>\n",
              "<table border=\"1\" class=\"dataframe\">\n",
              "  <thead>\n",
              "    <tr style=\"text-align: right;\">\n",
              "      <th></th>\n",
              "      <th>0</th>\n",
              "      <th>1</th>\n",
              "      <th>2</th>\n",
              "      <th>3</th>\n",
              "      <th>4</th>\n",
              "    </tr>\n",
              "  </thead>\n",
              "  <tbody>\n",
              "    <tr>\n",
              "      <th>Survived</th>\n",
              "      <td>0.00</td>\n",
              "      <td>1.0000</td>\n",
              "      <td>1.000</td>\n",
              "      <td>1.0</td>\n",
              "      <td>0.00</td>\n",
              "    </tr>\n",
              "    <tr>\n",
              "      <th>Pclass</th>\n",
              "      <td>3.00</td>\n",
              "      <td>1.0000</td>\n",
              "      <td>3.000</td>\n",
              "      <td>1.0</td>\n",
              "      <td>3.00</td>\n",
              "    </tr>\n",
              "    <tr>\n",
              "      <th>Gender</th>\n",
              "      <td>1.00</td>\n",
              "      <td>0.0000</td>\n",
              "      <td>0.000</td>\n",
              "      <td>0.0</td>\n",
              "      <td>1.00</td>\n",
              "    </tr>\n",
              "    <tr>\n",
              "      <th>Age</th>\n",
              "      <td>22.00</td>\n",
              "      <td>38.0000</td>\n",
              "      <td>26.000</td>\n",
              "      <td>35.0</td>\n",
              "      <td>35.00</td>\n",
              "    </tr>\n",
              "    <tr>\n",
              "      <th>SibSp</th>\n",
              "      <td>1.00</td>\n",
              "      <td>1.0000</td>\n",
              "      <td>0.000</td>\n",
              "      <td>1.0</td>\n",
              "      <td>0.00</td>\n",
              "    </tr>\n",
              "    <tr>\n",
              "      <th>Parch</th>\n",
              "      <td>0.00</td>\n",
              "      <td>0.0000</td>\n",
              "      <td>0.000</td>\n",
              "      <td>0.0</td>\n",
              "      <td>0.00</td>\n",
              "    </tr>\n",
              "    <tr>\n",
              "      <th>Fare</th>\n",
              "      <td>7.25</td>\n",
              "      <td>71.2833</td>\n",
              "      <td>7.925</td>\n",
              "      <td>53.1</td>\n",
              "      <td>8.05</td>\n",
              "    </tr>\n",
              "    <tr>\n",
              "      <th>Embarked</th>\n",
              "      <td>2.00</td>\n",
              "      <td>0.0000</td>\n",
              "      <td>2.000</td>\n",
              "      <td>2.0</td>\n",
              "      <td>2.00</td>\n",
              "    </tr>\n",
              "  </tbody>\n",
              "</table>\n",
              "</div>\n",
              "    <div class=\"colab-df-buttons\">\n",
              "\n",
              "  <div class=\"colab-df-container\">\n",
              "    <button class=\"colab-df-convert\" onclick=\"convertToInteractive('df-a9f4e925-5913-4a14-b97e-bf2015243912')\"\n",
              "            title=\"Convert this dataframe to an interactive table.\"\n",
              "            style=\"display:none;\">\n",
              "\n",
              "  <svg xmlns=\"http://www.w3.org/2000/svg\" height=\"24px\" viewBox=\"0 -960 960 960\">\n",
              "    <path d=\"M120-120v-720h720v720H120Zm60-500h600v-160H180v160Zm220 220h160v-160H400v160Zm0 220h160v-160H400v160ZM180-400h160v-160H180v160Zm440 0h160v-160H620v160ZM180-180h160v-160H180v160Zm440 0h160v-160H620v160Z\"/>\n",
              "  </svg>\n",
              "    </button>\n",
              "\n",
              "  <style>\n",
              "    .colab-df-container {\n",
              "      display:flex;\n",
              "      gap: 12px;\n",
              "    }\n",
              "\n",
              "    .colab-df-convert {\n",
              "      background-color: #E8F0FE;\n",
              "      border: none;\n",
              "      border-radius: 50%;\n",
              "      cursor: pointer;\n",
              "      display: none;\n",
              "      fill: #1967D2;\n",
              "      height: 32px;\n",
              "      padding: 0 0 0 0;\n",
              "      width: 32px;\n",
              "    }\n",
              "\n",
              "    .colab-df-convert:hover {\n",
              "      background-color: #E2EBFA;\n",
              "      box-shadow: 0px 1px 2px rgba(60, 64, 67, 0.3), 0px 1px 3px 1px rgba(60, 64, 67, 0.15);\n",
              "      fill: #174EA6;\n",
              "    }\n",
              "\n",
              "    .colab-df-buttons div {\n",
              "      margin-bottom: 4px;\n",
              "    }\n",
              "\n",
              "    [theme=dark] .colab-df-convert {\n",
              "      background-color: #3B4455;\n",
              "      fill: #D2E3FC;\n",
              "    }\n",
              "\n",
              "    [theme=dark] .colab-df-convert:hover {\n",
              "      background-color: #434B5C;\n",
              "      box-shadow: 0px 1px 3px 1px rgba(0, 0, 0, 0.15);\n",
              "      filter: drop-shadow(0px 1px 2px rgba(0, 0, 0, 0.3));\n",
              "      fill: #FFFFFF;\n",
              "    }\n",
              "  </style>\n",
              "\n",
              "    <script>\n",
              "      const buttonEl =\n",
              "        document.querySelector('#df-a9f4e925-5913-4a14-b97e-bf2015243912 button.colab-df-convert');\n",
              "      buttonEl.style.display =\n",
              "        google.colab.kernel.accessAllowed ? 'block' : 'none';\n",
              "\n",
              "      async function convertToInteractive(key) {\n",
              "        const element = document.querySelector('#df-a9f4e925-5913-4a14-b97e-bf2015243912');\n",
              "        const dataTable =\n",
              "          await google.colab.kernel.invokeFunction('convertToInteractive',\n",
              "                                                    [key], {});\n",
              "        if (!dataTable) return;\n",
              "\n",
              "        const docLinkHtml = 'Like what you see? Visit the ' +\n",
              "          '<a target=\"_blank\" href=https://colab.research.google.com/notebooks/data_table.ipynb>data table notebook</a>'\n",
              "          + ' to learn more about interactive tables.';\n",
              "        element.innerHTML = '';\n",
              "        dataTable['output_type'] = 'display_data';\n",
              "        await google.colab.output.renderOutput(dataTable, element);\n",
              "        const docLink = document.createElement('div');\n",
              "        docLink.innerHTML = docLinkHtml;\n",
              "        element.appendChild(docLink);\n",
              "      }\n",
              "    </script>\n",
              "  </div>\n",
              "\n",
              "\n",
              "<div id=\"df-67b206e0-4cb2-4843-9b09-b3abcdcbaad5\">\n",
              "  <button class=\"colab-df-quickchart\" onclick=\"quickchart('df-67b206e0-4cb2-4843-9b09-b3abcdcbaad5')\"\n",
              "            title=\"Suggest charts.\"\n",
              "            style=\"display:none;\">\n",
              "\n",
              "<svg xmlns=\"http://www.w3.org/2000/svg\" height=\"24px\"viewBox=\"0 0 24 24\"\n",
              "     width=\"24px\">\n",
              "    <g>\n",
              "        <path d=\"M19 3H5c-1.1 0-2 .9-2 2v14c0 1.1.9 2 2 2h14c1.1 0 2-.9 2-2V5c0-1.1-.9-2-2-2zM9 17H7v-7h2v7zm4 0h-2V7h2v10zm4 0h-2v-4h2v4z\"/>\n",
              "    </g>\n",
              "</svg>\n",
              "  </button>\n",
              "\n",
              "<style>\n",
              "  .colab-df-quickchart {\n",
              "      --bg-color: #E8F0FE;\n",
              "      --fill-color: #1967D2;\n",
              "      --hover-bg-color: #E2EBFA;\n",
              "      --hover-fill-color: #174EA6;\n",
              "      --disabled-fill-color: #AAA;\n",
              "      --disabled-bg-color: #DDD;\n",
              "  }\n",
              "\n",
              "  [theme=dark] .colab-df-quickchart {\n",
              "      --bg-color: #3B4455;\n",
              "      --fill-color: #D2E3FC;\n",
              "      --hover-bg-color: #434B5C;\n",
              "      --hover-fill-color: #FFFFFF;\n",
              "      --disabled-bg-color: #3B4455;\n",
              "      --disabled-fill-color: #666;\n",
              "  }\n",
              "\n",
              "  .colab-df-quickchart {\n",
              "    background-color: var(--bg-color);\n",
              "    border: none;\n",
              "    border-radius: 50%;\n",
              "    cursor: pointer;\n",
              "    display: none;\n",
              "    fill: var(--fill-color);\n",
              "    height: 32px;\n",
              "    padding: 0;\n",
              "    width: 32px;\n",
              "  }\n",
              "\n",
              "  .colab-df-quickchart:hover {\n",
              "    background-color: var(--hover-bg-color);\n",
              "    box-shadow: 0 1px 2px rgba(60, 64, 67, 0.3), 0 1px 3px 1px rgba(60, 64, 67, 0.15);\n",
              "    fill: var(--button-hover-fill-color);\n",
              "  }\n",
              "\n",
              "  .colab-df-quickchart-complete:disabled,\n",
              "  .colab-df-quickchart-complete:disabled:hover {\n",
              "    background-color: var(--disabled-bg-color);\n",
              "    fill: var(--disabled-fill-color);\n",
              "    box-shadow: none;\n",
              "  }\n",
              "\n",
              "  .colab-df-spinner {\n",
              "    border: 2px solid var(--fill-color);\n",
              "    border-color: transparent;\n",
              "    border-bottom-color: var(--fill-color);\n",
              "    animation:\n",
              "      spin 1s steps(1) infinite;\n",
              "  }\n",
              "\n",
              "  @keyframes spin {\n",
              "    0% {\n",
              "      border-color: transparent;\n",
              "      border-bottom-color: var(--fill-color);\n",
              "      border-left-color: var(--fill-color);\n",
              "    }\n",
              "    20% {\n",
              "      border-color: transparent;\n",
              "      border-left-color: var(--fill-color);\n",
              "      border-top-color: var(--fill-color);\n",
              "    }\n",
              "    30% {\n",
              "      border-color: transparent;\n",
              "      border-left-color: var(--fill-color);\n",
              "      border-top-color: var(--fill-color);\n",
              "      border-right-color: var(--fill-color);\n",
              "    }\n",
              "    40% {\n",
              "      border-color: transparent;\n",
              "      border-right-color: var(--fill-color);\n",
              "      border-top-color: var(--fill-color);\n",
              "    }\n",
              "    60% {\n",
              "      border-color: transparent;\n",
              "      border-right-color: var(--fill-color);\n",
              "    }\n",
              "    80% {\n",
              "      border-color: transparent;\n",
              "      border-right-color: var(--fill-color);\n",
              "      border-bottom-color: var(--fill-color);\n",
              "    }\n",
              "    90% {\n",
              "      border-color: transparent;\n",
              "      border-bottom-color: var(--fill-color);\n",
              "    }\n",
              "  }\n",
              "</style>\n",
              "\n",
              "  <script>\n",
              "    async function quickchart(key) {\n",
              "      const quickchartButtonEl =\n",
              "        document.querySelector('#' + key + ' button');\n",
              "      quickchartButtonEl.disabled = true;  // To prevent multiple clicks.\n",
              "      quickchartButtonEl.classList.add('colab-df-spinner');\n",
              "      try {\n",
              "        const charts = await google.colab.kernel.invokeFunction(\n",
              "            'suggestCharts', [key], {});\n",
              "      } catch (error) {\n",
              "        console.error('Error during call to suggestCharts:', error);\n",
              "      }\n",
              "      quickchartButtonEl.classList.remove('colab-df-spinner');\n",
              "      quickchartButtonEl.classList.add('colab-df-quickchart-complete');\n",
              "    }\n",
              "    (() => {\n",
              "      let quickchartButtonEl =\n",
              "        document.querySelector('#df-67b206e0-4cb2-4843-9b09-b3abcdcbaad5 button');\n",
              "      quickchartButtonEl.style.display =\n",
              "        google.colab.kernel.accessAllowed ? 'block' : 'none';\n",
              "    })();\n",
              "  </script>\n",
              "</div>\n",
              "    </div>\n",
              "  </div>\n"
            ]
          },
          "metadata": {},
          "execution_count": 23
        }
      ]
    },
    {
      "cell_type": "code",
      "source": [
        "df['Embarked'].unique()"
      ],
      "metadata": {
        "colab": {
          "base_uri": "https://localhost:8080/"
        },
        "id": "l_sRqU-Y9EXb",
        "outputId": "b77aa42a-17d4-46c3-caa8-a08a03264c1e"
      },
      "execution_count": 24,
      "outputs": [
        {
          "output_type": "execute_result",
          "data": {
            "text/plain": [
              "array([2, 0, 1, 3])"
            ]
          },
          "metadata": {},
          "execution_count": 24
        }
      ]
    },
    {
      "cell_type": "code",
      "source": [
        "df.isna().sum()\n"
      ],
      "metadata": {
        "colab": {
          "base_uri": "https://localhost:8080/"
        },
        "id": "kWhBaOaO9eSl",
        "outputId": "38833a2a-fa45-4251-e33b-3ba3a2935f56"
      },
      "execution_count": 25,
      "outputs": [
        {
          "output_type": "execute_result",
          "data": {
            "text/plain": [
              "Survived      0\n",
              "Pclass        0\n",
              "Gender        0\n",
              "Age         177\n",
              "SibSp         0\n",
              "Parch         0\n",
              "Fare          0\n",
              "Embarked      0\n",
              "dtype: int64"
            ]
          },
          "metadata": {},
          "execution_count": 25
        }
      ]
    },
    {
      "cell_type": "code",
      "source": [
        "df['Age'].fillna(df['Age'].median(),inplace=True)"
      ],
      "metadata": {
        "id": "Qz-f4qBL9hpp"
      },
      "execution_count": 27,
      "outputs": []
    },
    {
      "cell_type": "code",
      "source": [
        "df.isna().sum()"
      ],
      "metadata": {
        "colab": {
          "base_uri": "https://localhost:8080/"
        },
        "id": "03Zy9gB_9wYB",
        "outputId": "fdae3c83-a2df-4510-93c8-28d47fe95a85"
      },
      "execution_count": 28,
      "outputs": [
        {
          "output_type": "execute_result",
          "data": {
            "text/plain": [
              "Survived    0\n",
              "Pclass      0\n",
              "Gender      0\n",
              "Age         0\n",
              "SibSp       0\n",
              "Parch       0\n",
              "Fare        0\n",
              "Embarked    0\n",
              "dtype: int64"
            ]
          },
          "metadata": {},
          "execution_count": 28
        }
      ]
    },
    {
      "cell_type": "code",
      "source": [
        "##feature selection\n",
        "x = df.drop(\"Survived\",axis=1)\n",
        "y = df['Survived']\n",
        "x_train,x_test,y_train,y_test= train_test_split(x,y,test_size=0.25,random_state=42,stratify=y)"
      ],
      "metadata": {
        "id": "rd9L8fA79soO"
      },
      "execution_count": 30,
      "outputs": []
    },
    {
      "cell_type": "code",
      "source": [
        "lr_clf = LogisticRegression()\n",
        "lr_clf.fit(x_train,y_train)\n",
        "\n"
      ],
      "metadata": {
        "colab": {
          "base_uri": "https://localhost:8080/",
          "height": 74
        },
        "id": "k2LmWGNi-FYj",
        "outputId": "13cd459f-7795-4bef-bce4-fec3720bff3f"
      },
      "execution_count": 37,
      "outputs": [
        {
          "output_type": "execute_result",
          "data": {
            "text/plain": [
              "LogisticRegression()"
            ],
            "text/html": [
              "<style>#sk-container-id-4 {color: black;background-color: white;}#sk-container-id-4 pre{padding: 0;}#sk-container-id-4 div.sk-toggleable {background-color: white;}#sk-container-id-4 label.sk-toggleable__label {cursor: pointer;display: block;width: 100%;margin-bottom: 0;padding: 0.3em;box-sizing: border-box;text-align: center;}#sk-container-id-4 label.sk-toggleable__label-arrow:before {content: \"▸\";float: left;margin-right: 0.25em;color: #696969;}#sk-container-id-4 label.sk-toggleable__label-arrow:hover:before {color: black;}#sk-container-id-4 div.sk-estimator:hover label.sk-toggleable__label-arrow:before {color: black;}#sk-container-id-4 div.sk-toggleable__content {max-height: 0;max-width: 0;overflow: hidden;text-align: left;background-color: #f0f8ff;}#sk-container-id-4 div.sk-toggleable__content pre {margin: 0.2em;color: black;border-radius: 0.25em;background-color: #f0f8ff;}#sk-container-id-4 input.sk-toggleable__control:checked~div.sk-toggleable__content {max-height: 200px;max-width: 100%;overflow: auto;}#sk-container-id-4 input.sk-toggleable__control:checked~label.sk-toggleable__label-arrow:before {content: \"▾\";}#sk-container-id-4 div.sk-estimator input.sk-toggleable__control:checked~label.sk-toggleable__label {background-color: #d4ebff;}#sk-container-id-4 div.sk-label input.sk-toggleable__control:checked~label.sk-toggleable__label {background-color: #d4ebff;}#sk-container-id-4 input.sk-hidden--visually {border: 0;clip: rect(1px 1px 1px 1px);clip: rect(1px, 1px, 1px, 1px);height: 1px;margin: -1px;overflow: hidden;padding: 0;position: absolute;width: 1px;}#sk-container-id-4 div.sk-estimator {font-family: monospace;background-color: #f0f8ff;border: 1px dotted black;border-radius: 0.25em;box-sizing: border-box;margin-bottom: 0.5em;}#sk-container-id-4 div.sk-estimator:hover {background-color: #d4ebff;}#sk-container-id-4 div.sk-parallel-item::after {content: \"\";width: 100%;border-bottom: 1px solid gray;flex-grow: 1;}#sk-container-id-4 div.sk-label:hover label.sk-toggleable__label {background-color: #d4ebff;}#sk-container-id-4 div.sk-serial::before {content: \"\";position: absolute;border-left: 1px solid gray;box-sizing: border-box;top: 0;bottom: 0;left: 50%;z-index: 0;}#sk-container-id-4 div.sk-serial {display: flex;flex-direction: column;align-items: center;background-color: white;padding-right: 0.2em;padding-left: 0.2em;position: relative;}#sk-container-id-4 div.sk-item {position: relative;z-index: 1;}#sk-container-id-4 div.sk-parallel {display: flex;align-items: stretch;justify-content: center;background-color: white;position: relative;}#sk-container-id-4 div.sk-item::before, #sk-container-id-4 div.sk-parallel-item::before {content: \"\";position: absolute;border-left: 1px solid gray;box-sizing: border-box;top: 0;bottom: 0;left: 50%;z-index: -1;}#sk-container-id-4 div.sk-parallel-item {display: flex;flex-direction: column;z-index: 1;position: relative;background-color: white;}#sk-container-id-4 div.sk-parallel-item:first-child::after {align-self: flex-end;width: 50%;}#sk-container-id-4 div.sk-parallel-item:last-child::after {align-self: flex-start;width: 50%;}#sk-container-id-4 div.sk-parallel-item:only-child::after {width: 0;}#sk-container-id-4 div.sk-dashed-wrapped {border: 1px dashed gray;margin: 0 0.4em 0.5em 0.4em;box-sizing: border-box;padding-bottom: 0.4em;background-color: white;}#sk-container-id-4 div.sk-label label {font-family: monospace;font-weight: bold;display: inline-block;line-height: 1.2em;}#sk-container-id-4 div.sk-label-container {text-align: center;}#sk-container-id-4 div.sk-container {/* jupyter's `normalize.less` sets `[hidden] { display: none; }` but bootstrap.min.css set `[hidden] { display: none !important; }` so we also need the `!important` here to be able to override the default hidden behavior on the sphinx rendered scikit-learn.org. See: https://github.com/scikit-learn/scikit-learn/issues/21755 */display: inline-block !important;position: relative;}#sk-container-id-4 div.sk-text-repr-fallback {display: none;}</style><div id=\"sk-container-id-4\" class=\"sk-top-container\"><div class=\"sk-text-repr-fallback\"><pre>LogisticRegression()</pre><b>In a Jupyter environment, please rerun this cell to show the HTML representation or trust the notebook. <br />On GitHub, the HTML representation is unable to render, please try loading this page with nbviewer.org.</b></div><div class=\"sk-container\" hidden><div class=\"sk-item\"><div class=\"sk-estimator sk-toggleable\"><input class=\"sk-toggleable__control sk-hidden--visually\" id=\"sk-estimator-id-4\" type=\"checkbox\" checked><label for=\"sk-estimator-id-4\" class=\"sk-toggleable__label sk-toggleable__label-arrow\">LogisticRegression</label><div class=\"sk-toggleable__content\"><pre>LogisticRegression()</pre></div></div></div></div></div>"
            ]
          },
          "metadata": {},
          "execution_count": 37
        }
      ]
    },
    {
      "cell_type": "code",
      "source": [
        "#Evaluation\n",
        "y_pred = lr_clf.predict(x_test)\n",
        "y_pred[20:25] # Y predicted\n",
        "\n"
      ],
      "metadata": {
        "colab": {
          "base_uri": "https://localhost:8080/"
        },
        "id": "a9Lasc1a-evs",
        "outputId": "d82ea4b7-02b5-4cad-c01b-66d2bc8f78f0"
      },
      "execution_count": 39,
      "outputs": [
        {
          "output_type": "execute_result",
          "data": {
            "text/plain": [
              "array([0, 0, 1, 1, 0])"
            ]
          },
          "metadata": {},
          "execution_count": 39
        }
      ]
    },
    {
      "cell_type": "code",
      "source": [
        "y_test[20:25] # y actual"
      ],
      "metadata": {
        "colab": {
          "base_uri": "https://localhost:8080/"
        },
        "id": "izDjAWrh-PHD",
        "outputId": "6ed9d149-abe4-4231-ef8a-71dd2d2e6dea"
      },
      "execution_count": 38,
      "outputs": [
        {
          "output_type": "execute_result",
          "data": {
            "text/plain": [
              "288    1\n",
              "21     1\n",
              "139    0\n",
              "556    1\n",
              "562    0\n",
              "Name: Survived, dtype: int64"
            ]
          },
          "metadata": {},
          "execution_count": 38
        }
      ]
    },
    {
      "cell_type": "code",
      "source": [
        "###Accuracy\n",
        "cnf_matrix = confusion_matrix(y_test,y_pred)\n",
        "print(\"Confusion matrix:\\n\",cnf_matrix)"
      ],
      "metadata": {
        "colab": {
          "base_uri": "https://localhost:8080/"
        },
        "id": "IO7xbNZM_TFr",
        "outputId": "4eb31f32-2164-4e79-bbd3-dbabd1c964ce"
      },
      "execution_count": 40,
      "outputs": [
        {
          "output_type": "stream",
          "name": "stdout",
          "text": [
            "Confusion matrix:\n",
            " [[110  27]\n",
            " [ 24  62]]\n"
          ]
        }
      ]
    },
    {
      "cell_type": "code",
      "source": [
        "clf_report = classification_report(y_test,y_pred)\n",
        "print(\"classification_report is :\\n\",clf_report)"
      ],
      "metadata": {
        "colab": {
          "base_uri": "https://localhost:8080/"
        },
        "id": "nd81KDGE_jPq",
        "outputId": "ac7c22c5-80ac-4040-859b-c29d9e89bdf7"
      },
      "execution_count": 41,
      "outputs": [
        {
          "output_type": "stream",
          "name": "stdout",
          "text": [
            "classification_report is :\n",
            "               precision    recall  f1-score   support\n",
            "\n",
            "           0       0.82      0.80      0.81       137\n",
            "           1       0.70      0.72      0.71        86\n",
            "\n",
            "    accuracy                           0.77       223\n",
            "   macro avg       0.76      0.76      0.76       223\n",
            "weighted avg       0.77      0.77      0.77       223\n",
            "\n"
          ]
        }
      ]
    },
    {
      "cell_type": "code",
      "source": [
        "y_pred_prob = lr_clf.predict_proba(x_test)\n",
        "y_pred_prob"
      ],
      "metadata": {
        "colab": {
          "base_uri": "https://localhost:8080/"
        },
        "id": "4-pduZdh_py2",
        "outputId": "21e052e3-4dba-49af-e6b9-bea45e8c7bb5"
      },
      "execution_count": 42,
      "outputs": [
        {
          "output_type": "execute_result",
          "data": {
            "text/plain": [
              "array([[0.90029167, 0.09970833],\n",
              "       [0.85411222, 0.14588778],\n",
              "       [0.96293464, 0.03706536],\n",
              "       [0.14686843, 0.85313157],\n",
              "       [0.85966115, 0.14033885],\n",
              "       [0.19056723, 0.80943277],\n",
              "       [0.06365644, 0.93634356],\n",
              "       [0.31948024, 0.68051976],\n",
              "       [0.72250495, 0.27749505],\n",
              "       [0.85413958, 0.14586042],\n",
              "       [0.85738645, 0.14261355],\n",
              "       [0.22373108, 0.77626892],\n",
              "       [0.90861237, 0.09138763],\n",
              "       [0.88538602, 0.11461398],\n",
              "       [0.92673982, 0.07326018],\n",
              "       [0.15286391, 0.84713609],\n",
              "       [0.9360748 , 0.0639252 ],\n",
              "       [0.74931546, 0.25068454],\n",
              "       [0.30088823, 0.69911177],\n",
              "       [0.88053593, 0.11946407],\n",
              "       [0.85141051, 0.14858949],\n",
              "       [0.79581681, 0.20418319],\n",
              "       [0.31673641, 0.68326359],\n",
              "       [0.13385944, 0.86614056],\n",
              "       [0.74467791, 0.25532209],\n",
              "       [0.0455196 , 0.9544804 ],\n",
              "       [0.32356332, 0.67643668],\n",
              "       [0.4393806 , 0.5606194 ],\n",
              "       [0.34512933, 0.65487067],\n",
              "       [0.18186952, 0.81813048],\n",
              "       [0.17268751, 0.82731249],\n",
              "       [0.80424894, 0.19575106],\n",
              "       [0.08568012, 0.91431988],\n",
              "       [0.87652242, 0.12347758],\n",
              "       [0.86317558, 0.13682442],\n",
              "       [0.87904611, 0.12095389],\n",
              "       [0.27334746, 0.72665254],\n",
              "       [0.15681064, 0.84318936],\n",
              "       [0.99082893, 0.00917107],\n",
              "       [0.70700893, 0.29299107],\n",
              "       [0.88048496, 0.11951504],\n",
              "       [0.32606534, 0.67393466],\n",
              "       [0.85589148, 0.14410852],\n",
              "       [0.77133119, 0.22866881],\n",
              "       [0.211173  , 0.788827  ],\n",
              "       [0.67818612, 0.32181388],\n",
              "       [0.94877004, 0.05122996],\n",
              "       [0.884382  , 0.115618  ],\n",
              "       [0.83661612, 0.16338388],\n",
              "       [0.94078241, 0.05921759],\n",
              "       [0.73558871, 0.26441129],\n",
              "       [0.52236327, 0.47763673],\n",
              "       [0.2852109 , 0.7147891 ],\n",
              "       [0.27871479, 0.72128521],\n",
              "       [0.24768407, 0.75231593],\n",
              "       [0.91291668, 0.08708332],\n",
              "       [0.90031683, 0.09968317],\n",
              "       [0.74563285, 0.25436715],\n",
              "       [0.30996728, 0.69003272],\n",
              "       [0.67457767, 0.32542233],\n",
              "       [0.72213405, 0.27786595],\n",
              "       [0.72182194, 0.27817806],\n",
              "       [0.92340147, 0.07659853],\n",
              "       [0.46489387, 0.53510613],\n",
              "       [0.95344069, 0.04655931],\n",
              "       [0.89498198, 0.10501802],\n",
              "       [0.34512933, 0.65487067],\n",
              "       [0.92395778, 0.07604222],\n",
              "       [0.88053593, 0.11946407],\n",
              "       [0.90601582, 0.09398418],\n",
              "       [0.99082893, 0.00917107],\n",
              "       [0.90962424, 0.09037576],\n",
              "       [0.90031683, 0.09968317],\n",
              "       [0.69920959, 0.30079041],\n",
              "       [0.75473889, 0.24526111],\n",
              "       [0.93160765, 0.06839235],\n",
              "       [0.94815787, 0.05184213],\n",
              "       [0.02235581, 0.97764419],\n",
              "       [0.23289266, 0.76710734],\n",
              "       [0.34497015, 0.65502985],\n",
              "       [0.81172142, 0.18827858],\n",
              "       [0.96303782, 0.03696218],\n",
              "       [0.97575915, 0.02424085],\n",
              "       [0.47009788, 0.52990212],\n",
              "       [0.92837588, 0.07162412],\n",
              "       [0.37283003, 0.62716997],\n",
              "       [0.89606564, 0.10393436],\n",
              "       [0.56028939, 0.43971061],\n",
              "       [0.08474068, 0.91525932],\n",
              "       [0.109875  , 0.890125  ],\n",
              "       [0.90042213, 0.09957787],\n",
              "       [0.10822521, 0.89177479],\n",
              "       [0.03234333, 0.96765667],\n",
              "       [0.39396073, 0.60603927],\n",
              "       [0.14686843, 0.85313157],\n",
              "       [0.90005483, 0.09994517],\n",
              "       [0.92346249, 0.07653751],\n",
              "       [0.90863565, 0.09136435],\n",
              "       [0.38164781, 0.61835219],\n",
              "       [0.74485067, 0.25514933],\n",
              "       [0.03264577, 0.96735423],\n",
              "       [0.49829157, 0.50170843],\n",
              "       [0.89466376, 0.10533624],\n",
              "       [0.8765306 , 0.1234694 ],\n",
              "       [0.34507625, 0.65492375],\n",
              "       [0.91625969, 0.08374031],\n",
              "       [0.12748173, 0.87251827],\n",
              "       [0.9239897 , 0.0760103 ],\n",
              "       [0.22819674, 0.77180326],\n",
              "       [0.74571333, 0.25428667],\n",
              "       [0.16152416, 0.83847584],\n",
              "       [0.85753547, 0.14246453],\n",
              "       [0.67822983, 0.32177017],\n",
              "       [0.69425034, 0.30574966],\n",
              "       [0.39900295, 0.60099705],\n",
              "       [0.26381368, 0.73618632],\n",
              "       [0.88180233, 0.11819767],\n",
              "       [0.9688936 , 0.0311064 ],\n",
              "       [0.05114317, 0.94885683],\n",
              "       [0.8535962 , 0.1464038 ],\n",
              "       [0.74931546, 0.25068454],\n",
              "       [0.68901689, 0.31098311],\n",
              "       [0.0990935 , 0.9009065 ],\n",
              "       [0.39232156, 0.60767844],\n",
              "       [0.28794376, 0.71205624],\n",
              "       [0.34512933, 0.65487067],\n",
              "       [0.89923429, 0.10076571],\n",
              "       [0.93024596, 0.06975404],\n",
              "       [0.47985791, 0.52014209],\n",
              "       [0.44102706, 0.55897294],\n",
              "       [0.79977536, 0.20022464],\n",
              "       [0.86573204, 0.13426796],\n",
              "       [0.62195292, 0.37804708],\n",
              "       [0.91257411, 0.08742589],\n",
              "       [0.13107906, 0.86892094],\n",
              "       [0.8254965 , 0.1745035 ],\n",
              "       [0.03264577, 0.96735423],\n",
              "       [0.91630326, 0.08369674],\n",
              "       [0.84150813, 0.15849187],\n",
              "       [0.84668541, 0.15331459],\n",
              "       [0.90037323, 0.09962677],\n",
              "       [0.57742675, 0.42257325],\n",
              "       [0.82885992, 0.17114008],\n",
              "       [0.22643532, 0.77356468],\n",
              "       [0.25256015, 0.74743985],\n",
              "       [0.90453308, 0.09546692],\n",
              "       [0.3340448 , 0.6659552 ],\n",
              "       [0.90031683, 0.09968317],\n",
              "       [0.92374736, 0.07625264],\n",
              "       [0.44022778, 0.55977222],\n",
              "       [0.91160907, 0.08839093],\n",
              "       [0.90042213, 0.09957787],\n",
              "       [0.69597583, 0.30402417],\n",
              "       [0.94394729, 0.05605271],\n",
              "       [0.08707511, 0.91292489],\n",
              "       [0.7904385 , 0.2095615 ],\n",
              "       [0.97797607, 0.02202393],\n",
              "       [0.55316809, 0.44683191],\n",
              "       [0.90041194, 0.09958806],\n",
              "       [0.28872796, 0.71127204],\n",
              "       [0.87680779, 0.12319221],\n",
              "       [0.43252   , 0.56748   ],\n",
              "       [0.64390803, 0.35609197],\n",
              "       [0.22819139, 0.77180861],\n",
              "       [0.73778063, 0.26221937],\n",
              "       [0.1546248 , 0.8453752 ],\n",
              "       [0.11672109, 0.88327891],\n",
              "       [0.38037247, 0.61962753],\n",
              "       [0.44766588, 0.55233412],\n",
              "       [0.86329155, 0.13670845],\n",
              "       [0.13163528, 0.86836472],\n",
              "       [0.60517076, 0.39482924],\n",
              "       [0.90029167, 0.09970833],\n",
              "       [0.95126559, 0.04873441],\n",
              "       [0.21987714, 0.78012286],\n",
              "       [0.93646433, 0.06353567],\n",
              "       [0.70888124, 0.29111876],\n",
              "       [0.85753454, 0.14246546],\n",
              "       [0.34982436, 0.65017564],\n",
              "       [0.88053832, 0.11946168],\n",
              "       [0.85753454, 0.14246546],\n",
              "       [0.17284264, 0.82715736],\n",
              "       [0.47781668, 0.52218332],\n",
              "       [0.08673712, 0.91326288],\n",
              "       [0.69645801, 0.30354199],\n",
              "       [0.56660506, 0.43339494],\n",
              "       [0.52385023, 0.47614977],\n",
              "       [0.06198393, 0.93801607],\n",
              "       [0.77634407, 0.22365593],\n",
              "       [0.09208953, 0.90791047],\n",
              "       [0.94897231, 0.05102769],\n",
              "       [0.86567921, 0.13432079],\n",
              "       [0.89130401, 0.10869599],\n",
              "       [0.59804404, 0.40195596],\n",
              "       [0.48816336, 0.51183664],\n",
              "       [0.90430524, 0.09569476],\n",
              "       [0.06475713, 0.93524287],\n",
              "       [0.88684875, 0.11315125],\n",
              "       [0.0683676 , 0.9316324 ],\n",
              "       [0.35857084, 0.64142916],\n",
              "       [0.91632475, 0.08367525],\n",
              "       [0.90029167, 0.09970833],\n",
              "       [0.88053593, 0.11946407],\n",
              "       [0.90005483, 0.09994517],\n",
              "       [0.90033314, 0.09966686],\n",
              "       [0.21633424, 0.78366576],\n",
              "       [0.41355984, 0.58644016],\n",
              "       [0.34513619, 0.65486381],\n",
              "       [0.70654384, 0.29345616],\n",
              "       [0.91633055, 0.08366945],\n",
              "       [0.64598048, 0.35401952],\n",
              "       [0.68265252, 0.31734748],\n",
              "       [0.89133117, 0.10866883],\n",
              "       [0.36579944, 0.63420056],\n",
              "       [0.12489054, 0.87510946],\n",
              "       [0.47551015, 0.52448985],\n",
              "       [0.17458069, 0.82541931],\n",
              "       [0.80478964, 0.19521036],\n",
              "       [0.90029167, 0.09970833],\n",
              "       [0.38164781, 0.61835219],\n",
              "       [0.11328289, 0.88671711],\n",
              "       [0.64905724, 0.35094276],\n",
              "       [0.04140385, 0.95859615]])"
            ]
          },
          "metadata": {},
          "execution_count": 42
        }
      ]
    },
    {
      "cell_type": "code",
      "source": [
        "fpr,tpr,thresh = roc_curve(y_test,y_pred_prob[:,1])"
      ],
      "metadata": {
        "id": "ESUZjteW_rPP"
      },
      "execution_count": 43,
      "outputs": []
    },
    {
      "cell_type": "code",
      "source": [
        "thresh\n"
      ],
      "metadata": {
        "colab": {
          "base_uri": "https://localhost:8080/"
        },
        "id": "VGWV-dgK_0e6",
        "outputId": "a8b37fa8-0105-4cf3-917a-e5384899f8ae"
      },
      "execution_count": 44,
      "outputs": [
        {
          "output_type": "execute_result",
          "data": {
            "text/plain": [
              "array([1.97764419, 0.97764419, 0.96765667, 0.96735423, 0.93634356,\n",
              "       0.93524287, 0.86614056, 0.85313157, 0.80943277, 0.78366576,\n",
              "       0.75231593, 0.74743985, 0.73618632, 0.72665254, 0.72128521,\n",
              "       0.7147891 , 0.69911177, 0.68051976, 0.67393466, 0.65502985,\n",
              "       0.65492375, 0.65487067, 0.65017564, 0.64142916, 0.63420056,\n",
              "       0.61962753, 0.61835219, 0.60767844, 0.56748   , 0.5606194 ,\n",
              "       0.55977222, 0.55233412, 0.53510613, 0.52218332, 0.52014209,\n",
              "       0.50170843, 0.47763673, 0.44683191, 0.43971061, 0.43339494,\n",
              "       0.39482924, 0.35609197, 0.35401952, 0.35094276, 0.32542233,\n",
              "       0.29299107, 0.29111876, 0.26441129, 0.26221937, 0.25514933,\n",
              "       0.25436715, 0.25428667, 0.25068454, 0.24526111, 0.22866881,\n",
              "       0.22365593, 0.20418319, 0.17114008, 0.16338388, 0.15331459,\n",
              "       0.14858949, 0.14261355, 0.14246546, 0.14033885, 0.13682442,\n",
              "       0.11951504, 0.11946407, 0.10533624, 0.10393436, 0.10076571,\n",
              "       0.09994517, 0.09970833, 0.09968317, 0.09958806, 0.09957787,\n",
              "       0.09569476, 0.08374031, 0.08369674, 0.08367525, 0.08366945,\n",
              "       0.05102769, 0.04655931, 0.02202393, 0.00917107])"
            ]
          },
          "metadata": {},
          "execution_count": 44
        }
      ]
    },
    {
      "cell_type": "code",
      "source": [
        "# @title ROC Curve\n",
        ""
      ],
      "metadata": {
        "id": "lPTs5XWR_3J_"
      },
      "execution_count": 48,
      "outputs": []
    },
    {
      "cell_type": "code",
      "source": [
        "plt.title(\"ROC Curve\")\n",
        "plt.plot(fpr,tpr)\n",
        "plt.xlabel(\"Flase Positive Rate\")\n",
        "plt.ylabel(\"True Positive Rate\")\n"
      ],
      "metadata": {
        "colab": {
          "base_uri": "https://localhost:8080/",
          "height": 490
        },
        "id": "f8hNeB59AO5T",
        "outputId": "644ff465-379a-491b-fe17-18b02cc2e233"
      },
      "execution_count": 49,
      "outputs": [
        {
          "output_type": "execute_result",
          "data": {
            "text/plain": [
              "Text(0, 0.5, 'True Positive Rate')"
            ]
          },
          "metadata": {},
          "execution_count": 49
        },
        {
          "output_type": "display_data",
          "data": {
            "text/plain": [
              "<Figure size 640x480 with 1 Axes>"
            ],
            "image/png": "[encoded data removed]"
          },
          "metadata": {}
        }
      ]
    },
    {
      "cell_type": "code",
      "execution_count": null,
      "metadata": {
        "id": "_6dgEDgP0v3U"
      },
      "outputs": [],
      "source": [
        "\n",
        "#save the model\n",
        "file = open(\"expense_model.pkl\", 'wb')\n",
        "pickle.dump(linreg, file)"
      ]
    }
  ]
}